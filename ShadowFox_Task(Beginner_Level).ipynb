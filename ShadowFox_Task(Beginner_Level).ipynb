{
  "nbformat": 4,
  "nbformat_minor": 0,
  "metadata": {
    "colab": {
      "provenance": [],
      "authorship_tag": "ABX9TyPJm4ND6jT1IqnQ12biIX4z",
      "include_colab_link": true
    },
    "kernelspec": {
      "name": "python3",
      "display_name": "Python 3"
    },
    "language_info": {
      "name": "python"
    }
  },
  "cells": [
    {
      "cell_type": "markdown",
      "metadata": {
        "id": "view-in-github",
        "colab_type": "text"
      },
      "source": [
        "<a href=\"https://colab.research.google.com/github/Sivani2005/ShadowFox/blob/main/ShadowFox_Task(Beginner_Level).ipynb\" target=\"_parent\"><img src=\"https://colab.research.google.com/assets/colab-badge.svg\" alt=\"Open In Colab\"/></a>"
      ]
    },
    {
      "cell_type": "markdown",
      "source": [
        "Beginner Level Task"
      ],
      "metadata": {
        "id": "C9ldXUJIxb9h"
      }
    },
    {
      "cell_type": "markdown",
      "source": [
        "Task 1(1)"
      ],
      "metadata": {
        "id": "sBaghNdy1R-M"
      }
    },
    {
      "cell_type": "code",
      "source": [
        "pi = 22/7\n",
        "print(type(pi))"
      ],
      "metadata": {
        "colab": {
          "base_uri": "https://localhost:8080/"
        },
        "id": "Xhz7nd1Dxz3H",
        "outputId": "8a780ad8-c8d9-4307-c192-12a23fa31594"
      },
      "execution_count": 6,
      "outputs": [
        {
          "output_type": "stream",
          "name": "stdout",
          "text": [
            "<class 'float'>\n"
          ]
        }
      ]
    },
    {
      "cell_type": "markdown",
      "source": [
        "Task 1(2)"
      ],
      "metadata": {
        "id": "ml53SHMA18aS"
      }
    },
    {
      "cell_type": "code",
      "source": [
        "val_for = 4\n",
        "print(val_for)"
      ],
      "metadata": {
        "colab": {
          "base_uri": "https://localhost:8080/"
        },
        "id": "xwyJrdH0x0Ck",
        "outputId": "7770e719-c10b-47e2-90b3-19678af01a56"
      },
      "execution_count": 7,
      "outputs": [
        {
          "output_type": "stream",
          "name": "stdout",
          "text": [
            "4\n"
          ]
        }
      ]
    },
    {
      "cell_type": "markdown",
      "source": [
        "Task 1(3)"
      ],
      "metadata": {
        "id": "BXYBBwKb19uT"
      }
    },
    {
      "cell_type": "code",
      "source": [
        "P = 100\n",
        "R = 5\n",
        "T = 2\n",
        "Simple_Interest = P*R*T/100\n",
        "print(\"Simple Interet = \", Simple_Interest)"
      ],
      "metadata": {
        "colab": {
          "base_uri": "https://localhost:8080/"
        },
        "id": "BaCuaeFxx0Ne",
        "outputId": "c491bf62-86e4-4486-ecde-7640709f5f6f"
      },
      "execution_count": 8,
      "outputs": [
        {
          "output_type": "stream",
          "name": "stdout",
          "text": [
            "Simple Interet =  10.0\n"
          ]
        }
      ]
    },
    {
      "cell_type": "markdown",
      "source": [
        "Task 2(1)"
      ],
      "metadata": {
        "id": "NitWOISB1VO6"
      }
    },
    {
      "cell_type": "code",
      "source": [
        "def format(num, char):\n",
        "    return \"{0:{1}}\".format(num, char)\n",
        "\n",
        "result = format(145, 'o')\n",
        "print(result)\n",
        "\n",
        "\n",
        "#The representation used here is the octal representation, denoted by the character 'o'. This will convert the number 145 into its octal representation."
      ],
      "metadata": {
        "colab": {
          "base_uri": "https://localhost:8080/"
        },
        "id": "Ng0LFSAFyIO6",
        "outputId": "bafdf127-9b1d-414c-9bfa-3acf5ac16d36"
      },
      "execution_count": 10,
      "outputs": [
        {
          "output_type": "stream",
          "name": "stdout",
          "text": [
            "221\n"
          ]
        }
      ]
    },
    {
      "cell_type": "markdown",
      "source": [
        "Task 2(2)"
      ],
      "metadata": {
        "id": "gbsbNiC712I9"
      }
    },
    {
      "cell_type": "code",
      "source": [
        "import math\n",
        "r = 84\n",
        "pi = 3.14\n",
        "water_per_square_meter = 1.4\n",
        "\n",
        "# Area of the pond\n",
        "area = pi * r ** 2\n",
        "\n",
        "# Total amount of water in the pond\n",
        "total_water = area * water_per_square_meter\n",
        "\n",
        "# Print the result without any decimal point\n",
        "print(int(total_water))"
      ],
      "metadata": {
        "colab": {
          "base_uri": "https://localhost:8080/"
        },
        "id": "0Tfm2G531XZJ",
        "outputId": "5b031736-0691-4819-d10a-26a08fddffcd"
      },
      "execution_count": 11,
      "outputs": [
        {
          "output_type": "stream",
          "name": "stdout",
          "text": [
            "31018\n"
          ]
        }
      ]
    },
    {
      "cell_type": "markdown",
      "source": [
        "Task 2(3)"
      ],
      "metadata": {
        "id": "WSIO_cb62H4_"
      }
    },
    {
      "cell_type": "code",
      "source": [
        "import math\n",
        "\n",
        "D = 490\n",
        "T = 7\n",
        "\n",
        "# Convert time from minutes to seconds\n",
        "time = T * 60\n",
        "\n",
        "# Calculate speed in meters per second\n",
        "speed = D / time\n",
        "\n",
        "# Print the rounded speed without any decimal point\n",
        "print(int(speed))\n"
      ],
      "metadata": {
        "colab": {
          "base_uri": "https://localhost:8080/"
        },
        "id": "m3s4Yw9O1Xb0",
        "outputId": "c26a0782-c643-4e37-b6fe-7c9b6c5041fc"
      },
      "execution_count": 12,
      "outputs": [
        {
          "output_type": "stream",
          "name": "stdout",
          "text": [
            "1\n"
          ]
        }
      ]
    },
    {
      "cell_type": "markdown",
      "source": [
        "Task 3"
      ],
      "metadata": {
        "id": "UViIYUw72WRt"
      }
    },
    {
      "cell_type": "code",
      "source": [
        "# Initial Justice League list\n",
        "justice_league = [\"Superman\", \"Batman\", \"Wonder Woman\", \"Flash\", \"Aquaman\", \"Green Lantern\"]\n",
        "print(\"Initial Justice League List:\", justice_league)\n",
        "print()\n",
        "# 1: Calculate the number of members in the Justice League\n",
        "members = len(justice_league)\n",
        "print(\"Number of Members in the Justice League :\", members)\n",
        "print()\n",
        "\n",
        "# 2: Batman recruited Batgirl and Nightwing as new members\n",
        "justice_league.extend([\"Batgirl\", \"Nightwing\"])\n",
        "print(\"Justice League after adding Batgirl and Nightwing:\", justice_league)\n",
        "print()\n",
        "\n",
        "# 3: Wonder Woman is now the leader of the Justice League\n",
        "justice_league.remove(\"Wonder Woman\")\n",
        "justice_league.insert(0, \"Wonder Woman\")\n",
        "print(\"Justice League after making Wonder Woman the leader:\", justice_league)\n",
        "print()\n",
        "\n",
        "# 4: Separating Aquaman and Flash\n",
        "# I choose \"Green Lantern\" to move between Aquaman and Flash\n",
        "justice_league.remove(\"Green Lantern\")\n",
        "justice_league.insert(justice_league.index(\"Flash\") +1, \"Green Lantern\")\n",
        "print(\"Justice League after separating Aquaman and Flash:\", justice_league)\n",
        "print()\n",
        "# 5: Replace the existing list with a new team assembled by Superman\n",
        "new_members = [\"Cyborg\", \"Shazam\", \"Hawkgirl\", \"Martian Manhunter\", \"Green Arrow\"]\n",
        "justice_league = new_members\n",
        "print(\"Justice League after assembling a new team by Superman:\", justice_league)\n",
        "print()\n",
        "\n",
        "# 6: Sort the Justice League alphabetically\n",
        "justice_league.sort()\n",
        "print(\"Justice League after sorting alphabetically:\", justice_league)\n",
        "print()\n",
        "\n",
        "# Predicting the new leader\n",
        "new_leader = justice_league[0]\n",
        "print(\"New Leader of the Justice League:\", new_leader)\n",
        "print()\n"
      ],
      "metadata": {
        "colab": {
          "base_uri": "https://localhost:8080/"
        },
        "id": "5346vALQ1XfJ",
        "outputId": "ffd73d40-4c5c-494a-cbf6-2fb6ff32f8fb"
      },
      "execution_count": 13,
      "outputs": [
        {
          "output_type": "stream",
          "name": "stdout",
          "text": [
            "Initial Justice League List: ['Superman', 'Batman', 'Wonder Woman', 'Flash', 'Aquaman', 'Green Lantern']\n",
            "\n",
            "Number of Members in the Justice League : 6\n",
            "\n",
            "Justice League after adding Batgirl and Nightwing: ['Superman', 'Batman', 'Wonder Woman', 'Flash', 'Aquaman', 'Green Lantern', 'Batgirl', 'Nightwing']\n",
            "\n",
            "Justice League after making Wonder Woman the leader: ['Wonder Woman', 'Superman', 'Batman', 'Flash', 'Aquaman', 'Green Lantern', 'Batgirl', 'Nightwing']\n",
            "\n",
            "Justice League after separating Aquaman and Flash: ['Wonder Woman', 'Superman', 'Batman', 'Flash', 'Green Lantern', 'Aquaman', 'Batgirl', 'Nightwing']\n",
            "\n",
            "Justice League after assembling a new team by Superman: ['Cyborg', 'Shazam', 'Hawkgirl', 'Martian Manhunter', 'Green Arrow']\n",
            "\n",
            "Justice League after sorting alphabetically: ['Cyborg', 'Green Arrow', 'Hawkgirl', 'Martian Manhunter', 'Shazam']\n",
            "\n",
            "New Leader of the Justice League: Cyborg\n",
            "\n"
          ]
        }
      ]
    },
    {
      "cell_type": "markdown",
      "source": [
        "Task 4(1)"
      ],
      "metadata": {
        "id": "LxyKX2GG3z3Y"
      }
    },
    {
      "cell_type": "code",
      "source": [
        "print(\"This program is to calculate BMI of an individual.\")\n",
        "\n",
        "height = float(input (\"Enter your height in meters :\"))\n",
        "weight = float(input (\"Enter your weight in kilograms :\"))\n",
        "\n",
        "\n",
        "BMI = weight / (height ** 2)\n",
        "\n",
        "if BMI >= 30 :\n",
        "     print(\" Obesity \")\n",
        "\n",
        "\n",
        "else:\n",
        "  if 25 < BMI < 29:\n",
        "        print(\" Overweight \")\n",
        "  else :\n",
        "      if 18.5 < BMI < 25 :\n",
        "        print( \" Normal \")\n",
        "\n",
        "      else :\n",
        "          BMI < 18.5\n",
        "          print(\" Underweight \")"
      ],
      "metadata": {
        "colab": {
          "base_uri": "https://localhost:8080/"
        },
        "id": "8glMLuDG1Xy9",
        "outputId": "39158261-cb3e-4ebe-d39d-81804ca637d4"
      },
      "execution_count": 14,
      "outputs": [
        {
          "output_type": "stream",
          "name": "stdout",
          "text": [
            "This program is to calculate BMI of an individual.\n",
            "Enter your height in meters :1.2\n",
            "Enter your weight in kilograms :76\n",
            " Obesity \n"
          ]
        }
      ]
    },
    {
      "cell_type": "markdown",
      "source": [
        "Task 4(2)"
      ],
      "metadata": {
        "id": "x6dTQ7T44TRy"
      }
    },
    {
      "cell_type": "code",
      "source": [
        "list = {\n",
        "    \"Australia\": [\"Sydney\", \"Melbourne\", \"Brisbane\", \"Perth\"],\n",
        "    \"UAE\": [\"Dubai\", \"Abu Dhabi\", \"Sharjah\", \"Ajman\"],\n",
        "    \"India\": [\"Mumbai\", \"Bangalore\", \"Chennai\", \"Delhi\"]\n",
        "}\n",
        "\n",
        "city_name = input(\"Enter a city name: \")\n",
        "\n",
        "found = False\n",
        "\n",
        "for country, cities in list.items():\n",
        "    if city_name in cities:\n",
        "        print(f\"{city_name} is in {country}\")\n",
        "        found = True\n",
        "        break\n",
        "\n",
        "if not found:\n",
        "    print(\"City not found in the list.\")"
      ],
      "metadata": {
        "colab": {
          "base_uri": "https://localhost:8080/"
        },
        "id": "7JOJQwvp1X2d",
        "outputId": "8985c97f-10df-4746-a9a9-34095c77e78a"
      },
      "execution_count": 15,
      "outputs": [
        {
          "output_type": "stream",
          "name": "stdout",
          "text": [
            "Enter a city name: Sydney\n",
            "Sydney is in Australia\n"
          ]
        }
      ]
    },
    {
      "cell_type": "markdown",
      "source": [
        "Task 4(3)"
      ],
      "metadata": {
        "id": "7_CAsqzi40WU"
      }
    },
    {
      "cell_type": "code",
      "source": [
        "list = {\n",
        "    \"Australia\": [\"Sydney\", \"Melbourne\", \"Brisbane\", \"Perth\"],\n",
        "    \"UAE\": [\"Dubai\", \"Abu Dhabi\", \"Sharjah\", \"Ajman\"],\n",
        "    \"India\": [\"Mumbai\", \"Bangalore\", \"Chennai\", \"Delhi\"]\n",
        "}\n",
        "\n",
        "City1= input(\"Enter the first city : \")\n",
        "City2 = input(\"Enter the second city : \")\n",
        "\n",
        "similarity = False\n",
        "\n",
        "for country, cities in list.items():\n",
        "    if City1 in cities and City2 in cities:\n",
        "        print(f\"{City1} and {City2} both belong to {country}\")\n",
        "        similarity = True\n",
        "        break\n",
        "\n",
        "if not similarity:\n",
        "    print(\"The two cities do not belong to the same country.\")\n"
      ],
      "metadata": {
        "colab": {
          "base_uri": "https://localhost:8080/"
        },
        "id": "ekwbuIo5yISU",
        "outputId": "940abc76-b9b9-468b-a83b-6d5a5adf1c01"
      },
      "execution_count": 16,
      "outputs": [
        {
          "output_type": "stream",
          "name": "stdout",
          "text": [
            "Enter the first city : Brisbane\n",
            "Enter the second city : Sharjah\n",
            "The two cities do not belong to the same country.\n"
          ]
        }
      ]
    },
    {
      "cell_type": "markdown",
      "source": [
        "Task 5(1)"
      ],
      "metadata": {
        "id": "aaQCCNgL5LXZ"
      }
    },
    {
      "cell_type": "code",
      "source": [
        "import random\n",
        "\n",
        "num_rolls = 90\n",
        "rolls = [random.randint(1, 6) for _ in range(num_rolls)]\n",
        "count_6 = 0\n",
        "count_1 = 0\n",
        "count_two_6 = 0\n",
        "\n",
        "for i in range(num_rolls):\n",
        "    if rolls[i] == 6:\n",
        "        count_6 += 1\n",
        "        if i > 0 and rolls[i-1] == 6:\n",
        "            count_two_6+= 1\n",
        "    elif rolls[i] == 1:\n",
        "        count_1 += 1\n",
        "\n",
        "# Print statistics\n",
        "print(\"Number of times rolled a 6:\", count_6)\n",
        "print(\"Number of times rolled a 1:\", count_1)\n",
        "print(\"Number of times rolled two 6s in a row:\", count_two_6)"
      ],
      "metadata": {
        "colab": {
          "base_uri": "https://localhost:8080/"
        },
        "id": "urruF4EX5LtL",
        "outputId": "df85d1b8-09dd-42ee-f266-1f41b0fd4176"
      },
      "execution_count": 17,
      "outputs": [
        {
          "output_type": "stream",
          "name": "stdout",
          "text": [
            "Number of times rolled a 6: 15\n",
            "Number of times rolled a 1: 23\n",
            "Number of times rolled two 6s in a row: 1\n"
          ]
        }
      ]
    },
    {
      "cell_type": "markdown",
      "source": [
        "Task 5(2)"
      ],
      "metadata": {
        "id": "KmD8Xzkb5MC2"
      }
    },
    {
      "cell_type": "code",
      "source": [
        "total = 100\n",
        "remaining = total\n",
        "s = 10\n",
        "\n",
        "while remaining > 0:\n",
        "    if remaining >= s:\n",
        "        print(f\"You have {remaining} jumping jacks remaining.\")\n",
        "        tired_response = input(\"Are you tired? (yes/no): \").lower()\n",
        "        if tired_response == \"yes\" or tired_response == \"y\":\n",
        "            skip_response = input(\"Do you want to skip the remaining sets? (yes/no): \").lower()\n",
        "            if skip_response == \"yes\" or skip_response == \"y\":\n",
        "                print(f\"You completed a total of {total - remaining} jumping jacks.\")\n",
        "                break\n",
        "        else:\n",
        "            remaining -= s\n",
        "    else:\n",
        "        print(f\"You have {remaining} jumping jacks remaining.\")\n",
        "        tired_response = input(\"Are you tired? (yes/no): \").lower()\n",
        "        if tired_response == \"yes\" or tired_response == \"y\":\n",
        "            print(f\"You completed a total of {total_- remaining} jumping jacks.\")\n",
        "            break\n",
        "        else:\n",
        "            remaining = 0\n",
        "\n",
        "if remaining == 0:\n",
        "    print(\"Congratulations! You completed the workout.\")"
      ],
      "metadata": {
        "colab": {
          "base_uri": "https://localhost:8080/"
        },
        "id": "Ot9AEjsy5MVn",
        "outputId": "84dfb5a0-afec-4e91-f5a0-bc738b1096ca"
      },
      "execution_count": 18,
      "outputs": [
        {
          "output_type": "stream",
          "name": "stdout",
          "text": [
            "You have 100 jumping jacks remaining.\n",
            "Are you tired? (yes/no): no\n",
            "You have 90 jumping jacks remaining.\n",
            "Are you tired? (yes/no): yes\n",
            "Do you want to skip the remaining sets? (yes/no): yes\n",
            "You completed a total of 10 jumping jacks.\n"
          ]
        }
      ]
    },
    {
      "cell_type": "markdown",
      "source": [
        "Task 6(1)"
      ],
      "metadata": {
        "id": "FKpB779X5M05"
      }
    },
    {
      "cell_type": "code",
      "source": [
        "names = ['Shivani', 'Janani', 'Sarthak', 'Anjani', 'Deepak', 'Subbu', 'Samyuktha', 'Arjun']\n",
        "lengths = [(name, len(name)) for name in names]\n",
        "\n",
        "for tuple in lengths:\n",
        "    print(tuple)"
      ],
      "metadata": {
        "colab": {
          "base_uri": "https://localhost:8080/"
        },
        "id": "fTTQ2kUk5NJp",
        "outputId": "5696554d-b8da-4893-cf0a-2c851e6413bd"
      },
      "execution_count": 19,
      "outputs": [
        {
          "output_type": "stream",
          "name": "stdout",
          "text": [
            "('Shivani', 7)\n",
            "('Janani', 6)\n",
            "('Sarthak', 7)\n",
            "('Anjani', 6)\n",
            "('Deepak', 6)\n",
            "('Subbu', 5)\n",
            "('Samyuktha', 9)\n",
            "('Arjun', 5)\n"
          ]
        }
      ]
    },
    {
      "cell_type": "markdown",
      "source": [
        "Task 6(2)"
      ],
      "metadata": {
        "id": "DAARygal5Ncz"
      }
    },
    {
      "cell_type": "code",
      "source": [
        "your_expenses = {\n",
        "    \"Hotel\": 4000,\n",
        "    \"Food\": 2100,\n",
        "    \"Transportation\": 900,\n",
        "    \"Attractions\": 300,\n",
        "    \"Miscellaneous\": 200\n",
        "}\n",
        "\n",
        "\n",
        "partner_expenses = {\n",
        "    \"Hotel\": 3000,\n",
        "    \"Food\": 1900,\n",
        "    \"Transportation\": 400,\n",
        "    \"Attractions\": 1400,\n",
        "    \"Miscellaneous\": 1050\n",
        "}\n",
        "\n",
        "\n",
        "your_total_expenses = sum(your_expenses.values())\n",
        "partner_total_expenses = sum(partner_expenses.values())\n",
        "\n",
        "print(\"Your total expenses:\", your_total_expenses)\n",
        "print(\"Partner's total expenses:\", partner_total_expenses)\n",
        "\n",
        "if your_total_expenses > partner_total_expenses:\n",
        "    print(\"You spent more money overall.\")\n",
        "elif partner_total_expenses > your_total_expenses:\n",
        "    print(\"Your partner spent more money overall.\")\n",
        "else:\n",
        "    print(\"You and your partner spent the same amount overall.\")\n",
        "\n",
        "significant_difference = max(your_expenses, key=lambda x: abs(your_expenses[x] - partner_expenses[x]))\n",
        "difference = abs(your_expenses[significant_difference] - partner_expenses[significant_difference])\n",
        "\n",
        "print(\"Expense category with significant difference:\", significant_difference)\n",
        "print(\"Difference:\", difference)\n"
      ],
      "metadata": {
        "colab": {
          "base_uri": "https://localhost:8080/"
        },
        "id": "41deEO3M5NwN",
        "outputId": "11fbb7e2-825a-47fb-bd85-3e76c32621b1"
      },
      "execution_count": 20,
      "outputs": [
        {
          "output_type": "stream",
          "name": "stdout",
          "text": [
            "Your total expenses: 7500\n",
            "Partner's total expenses: 7750\n",
            "Your partner spent more money overall.\n",
            "Expense category with significant difference: Attractions\n",
            "Difference: 1100\n"
          ]
        }
      ]
    },
    {
      "cell_type": "markdown",
      "source": [
        "Task 7"
      ],
      "metadata": {
        "id": "X0TpJkrX5OCL"
      }
    },
    {
      "cell_type": "code",
      "source": [
        "class Avenger:\n",
        "    def __init__(self, name, age, gender, super_power, weapon):\n",
        "        self.name = name\n",
        "        self.age = age\n",
        "        self.gender = gender\n",
        "        self.super_power = super_power\n",
        "        self.weapon = weapon\n",
        "\n",
        "    def info(self):\n",
        "        return f\"Name: {self.name}, Age: {self.age}, Gender: {self.gender}, Super Power: {self.super_power}, Weapon: {self.weapon}\"\n",
        "\n",
        "    def leader(self):\n",
        "        return self.name in [\"Captain America\", \"Iron Man\", \"Black Widow\"]\n",
        "\n",
        "super_heroes = {\n",
        "    \"Captain America\": (\"Super Strength\", \"Shield\"),\n",
        "    \"Iron Man\": (\"Technology\", \"Armor\"),\n",
        "    \"Black Widow\": (\"Superhuman\", \"Batons\"),\n",
        "    \"Hulk\": (\"Unlimited Strength\", \"No Weapon\"),\n",
        "    \"Thor\": (\"Super Energy\", \"Mjölnir\"),\n",
        "    \"Hawkeye\": (\"Fighting Skills\", \"Bow and Arrows\")\n",
        "}\n",
        "\n",
        "avengers = []\n",
        "for name, (super_power, weapon) in super_heroes.items():\n",
        "    if name == \"Captain America\":\n",
        "        avengers.append(Avenger(name, 100, \"Male\", super_power, weapon))\n",
        "    elif name == \"Iron Man\":\n",
        "        avengers.append(Avenger(name, 45, \"Male\", super_power, weapon))\n",
        "    elif name == \"Black Widow\":\n",
        "        avengers.append(Avenger(name, 35, \"Female\", super_power, weapon))\n",
        "    elif name == \"Hulk\":\n",
        "        avengers.append(Avenger(name, \"Unknown\", \"Male\", super_power, weapon))\n",
        "    elif name == \"Thor\":\n",
        "        avengers.append(Avenger(name, \"Unknown\", \"Male\", super_power, weapon))\n",
        "    elif name == \"Hawkeye\":\n",
        "        avengers.append(Avenger(name, 40, \"Male\", super_power, weapon))\n",
        "\n",
        "for avenger in avengers:\n",
        "    print(avenger.info())\n",
        "    print(\"Is leader:\", avenger.leader())\n",
        "    print()\n",
        "\n",
        "\n"
      ],
      "metadata": {
        "colab": {
          "base_uri": "https://localhost:8080/"
        },
        "id": "r6sUsvFZ5OXE",
        "outputId": "63cc3326-0838-445a-df86-40a7d62d9f11"
      },
      "execution_count": 21,
      "outputs": [
        {
          "output_type": "stream",
          "name": "stdout",
          "text": [
            "Name: Captain America, Age: 100, Gender: Male, Super Power: Super Strength, Weapon: Shield\n",
            "Is leader: True\n",
            "\n",
            "Name: Iron Man, Age: 45, Gender: Male, Super Power: Technology, Weapon: Armor\n",
            "Is leader: True\n",
            "\n",
            "Name: Black Widow, Age: 35, Gender: Female, Super Power: Superhuman, Weapon: Batons\n",
            "Is leader: True\n",
            "\n",
            "Name: Hulk, Age: Unknown, Gender: Male, Super Power: Unlimited Strength, Weapon: No Weapon\n",
            "Is leader: False\n",
            "\n",
            "Name: Thor, Age: Unknown, Gender: Male, Super Power: Super Energy, Weapon: Mjölnir\n",
            "Is leader: False\n",
            "\n",
            "Name: Hawkeye, Age: 40, Gender: Male, Super Power: Fighting Skills, Weapon: Bow and Arrows\n",
            "Is leader: False\n",
            "\n"
          ]
        }
      ]
    }
  ]
}