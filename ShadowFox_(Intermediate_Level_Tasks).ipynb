{
  "nbformat": 4,
  "nbformat_minor": 0,
  "metadata": {
    "colab": {
      "provenance": [],
      "authorship_tag": "ABX9TyOsOZpGqhkYSb2pKDG8oYFp",
      "include_colab_link": true
    },
    "kernelspec": {
      "name": "python3",
      "display_name": "Python 3"
    },
    "language_info": {
      "name": "python"
    }
  },
  "cells": [
    {
      "cell_type": "markdown",
      "metadata": {
        "id": "view-in-github",
        "colab_type": "text"
      },
      "source": [
        "<a href=\"https://colab.research.google.com/github/Sivani2005/ShadowFox/blob/main/ShadowFox_(Intermediate_Level_Tasks).ipynb\" target=\"_parent\"><img src=\"https://colab.research.google.com/assets/colab-badge.svg\" alt=\"Open In Colab\"/></a>"
      ]
    },
    {
      "cell_type": "markdown",
      "source": [
        "Task 1 : Web Scraper: Extract data from websites using libraries like Beautiful Soup or Scrapy."
      ],
      "metadata": {
        "id": "0OfwboYeyUuE"
      }
    },
    {
      "cell_type": "code",
      "source": [
        "!pip install requests"
      ],
      "metadata": {
        "colab": {
          "base_uri": "https://localhost:8080/"
        },
        "id": "XimYs1Y3yZID",
        "outputId": "2e544cea-1909-4a36-9034-e2dc57c5d1a6"
      },
      "execution_count": 1,
      "outputs": [
        {
          "output_type": "stream",
          "name": "stdout",
          "text": [
            "Requirement already satisfied: requests in /usr/local/lib/python3.10/dist-packages (2.31.0)\n",
            "Requirement already satisfied: charset-normalizer<4,>=2 in /usr/local/lib/python3.10/dist-packages (from requests) (3.3.2)\n",
            "Requirement already satisfied: idna<4,>=2.5 in /usr/local/lib/python3.10/dist-packages (from requests) (3.7)\n",
            "Requirement already satisfied: urllib3<3,>=1.21.1 in /usr/local/lib/python3.10/dist-packages (from requests) (2.0.7)\n",
            "Requirement already satisfied: certifi>=2017.4.17 in /usr/local/lib/python3.10/dist-packages (from requests) (2024.6.2)\n"
          ]
        }
      ]
    },
    {
      "cell_type": "code",
      "source": [
        "!pip install beautifulsoup4"
      ],
      "metadata": {
        "colab": {
          "base_uri": "https://localhost:8080/"
        },
        "id": "ToHsw2P6yZK4",
        "outputId": "5860d3d1-6fa6-4b1b-9917-27cccb06150a"
      },
      "execution_count": 2,
      "outputs": [
        {
          "output_type": "stream",
          "name": "stdout",
          "text": [
            "Requirement already satisfied: beautifulsoup4 in /usr/local/lib/python3.10/dist-packages (4.12.3)\n",
            "Requirement already satisfied: soupsieve>1.2 in /usr/local/lib/python3.10/dist-packages (from beautifulsoup4) (2.5)\n"
          ]
        }
      ]
    },
    {
      "cell_type": "code",
      "source": [
        "import requests"
      ],
      "metadata": {
        "id": "oziz6F6IyZOD"
      },
      "execution_count": 3,
      "outputs": []
    },
    {
      "cell_type": "code",
      "source": [
        "from bs4 import BeautifulSoup"
      ],
      "metadata": {
        "id": "cy2yVYx1yZQd"
      },
      "execution_count": 4,
      "outputs": []
    },
    {
      "cell_type": "code",
      "source": [
        "import pandas as pd"
      ],
      "metadata": {
        "id": "-9zRZjAryZVy"
      },
      "execution_count": 5,
      "outputs": []
    },
    {
      "cell_type": "code",
      "source": [
        "books = []\n",
        "for i in range(1,5) :\n",
        " url = f\"https://books.toscrape.com/catalogue/page-{i}.html\"\n",
        " response = requests.get(url)\n",
        " response = response.content\n",
        " soup = BeautifulSoup(response, 'html.parser')\n",
        " ol = soup.find('ol')\n",
        " articles = ol.find_all('article', class_='product_pod')\n",
        "\n",
        "for article in articles :\n",
        "  image = article.find('img')\n",
        "  title = image.attrs['alt']\n",
        "  star = article.find('p')\n",
        "  star = star['class'][1]\n",
        "  price = article.find('p', class_='price_color').text\n",
        "  price = float(price[1:])\n",
        "  books.append([title, price , star])\n"
      ],
      "metadata": {
        "id": "h-P_igYxyZYa"
      },
      "execution_count": 7,
      "outputs": []
    },
    {
      "cell_type": "code",
      "source": [
        "df = pd.DataFrame(books, columns = ['Title','Price','Rating'])"
      ],
      "metadata": {
        "id": "k3uSbOVwyZau"
      },
      "execution_count": 8,
      "outputs": []
    },
    {
      "cell_type": "code",
      "source": [
        "df.to_csv('books.csv')"
      ],
      "metadata": {
        "id": "iGIlnbs_yZdK"
      },
      "execution_count": 9,
      "outputs": []
    },
    {
      "cell_type": "markdown",
      "source": [
        "Task 2 : Hangman: Implement the word guessing game with visual progress and hints."
      ],
      "metadata": {
        "id": "tHq8X208zKZF"
      }
    },
    {
      "cell_type": "code",
      "source": [
        "import random\n",
        "\n",
        "def hangman():\n",
        "    list= [\n",
        "        'shivani', 'ball', 'goal', 'halloween', 'bean', 'wall', 'gangster', 'soup',\n",
        "        'swallow', 'help', 'raw', 'india', 'queue', 'watson', 'energy', 'rating',\n",
        "        'tarot', 'yard', 'underage', 'usage', 'identity', 'inner', 'implement',\n",
        "        'yogurt', 'outrageous', 'outstanding', 'placement', 'fellowship'\n",
        "    ]\n",
        "\n",
        "    word = random.choice(list)\n",
        "    turns = 10\n",
        "    guessmade = ''\n",
        "    valid_entry = set('abcdefghijklmnopqrstuvwxyz')\n",
        "\n",
        "    print(\"Welcome to Hangman!\")\n",
        "    name = input(\"Enter your name: \")\n",
        "    print(f\"Welcome, {name}!\")\n",
        "    print(\"Try to guess the word in less than 10 attempts\")\n",
        "\n",
        "    while len(word) > 0:\n",
        "        main_word = \"\"\n",
        "\n",
        "        for letter in word:\n",
        "            if letter in guessmade:\n",
        "                main_word += letter\n",
        "            else:\n",
        "                main_word += \"_\"\n",
        "\n",
        "        if main_word == word:\n",
        "            print(main_word)\n",
        "            print(\"You win!\")\n",
        "            break\n",
        "\n",
        "        print(\"Guess the word:\", main_word)\n",
        "        guess = input().lower()\n",
        "\n",
        "        if guess in valid_entry and len(guess) == 1:\n",
        "            if guess not in guessmade:\n",
        "                guessmade += guess\n",
        "\n",
        "                if guess not in word:\n",
        "                    turns -= 1\n",
        "                    print(f\"Wrong guess. You have {turns} turns left!\")\n",
        "                    if turns == 9:\n",
        "                        print(\"  -------------- \")\n",
        "                    elif turns == 8:\n",
        "                        print(\"  -------------- \\n         O        \")\n",
        "                    elif turns == 7:\n",
        "                        print(\"  -------------- \\n         O        \\n         |        \")\n",
        "                    elif turns == 6:\n",
        "                        print(\"  -------------- \\n         O        \\n         |        \\n        /        \")\n",
        "                    elif turns == 5:\n",
        "                        print(\"  -------------- \\n         O        \\n         |        \\n        / \\\\      \")\n",
        "                    elif turns == 4:\n",
        "                        print(\"  -------------- \\n        \\\\O       \\n         |        \\n        / \\\\      \")\n",
        "                    elif turns == 3:\n",
        "                        print(\"  -------------- \\n        \\\\O/      \\n         |        \\n        / \\\\      \")\n",
        "                    elif turns == 2:\n",
        "                        print(\"  -------------- \\n        \\\\O/|     \\n         |        \\n        / \\\\      \")\n",
        "                    elif turns == 1:\n",
        "                        print(\"  -------------- \\n        \\\\O/_|    \\n         |        \\n        / \\\\      \")\n",
        "                    elif turns == 0:\n",
        "                        print(\"You lose\")\n",
        "                        print(\"You let a good man die\")\n",
        "                        print(\"The word was:\", word)\n",
        "                        break\n",
        "            else:\n",
        "                print(\"You already guessed that letter. Try again.\")\n",
        "        else:\n",
        "            print(\"Enter a valid character\")\n",
        "\n",
        "if __name__ == \"__main__\":\n",
        "    hangman()\n"
      ],
      "metadata": {
        "colab": {
          "base_uri": "https://localhost:8080/"
        },
        "id": "sIApBL3_yZfi",
        "outputId": "e505e055-2df3-4386-e3e8-47f34bf703d3"
      },
      "execution_count": 16,
      "outputs": [
        {
          "output_type": "stream",
          "name": "stdout",
          "text": [
            "Welcome to Hangman!\n",
            "Enter your name: Shivani\n",
            "Welcome, Shivani!\n",
            "Try to guess the word in less than 10 attempts\n",
            "Guess the word: ______\n",
            "q\n",
            "Wrong guess. You have 9 turns left!\n",
            "  -------------- \n",
            "Guess the word: ______\n",
            "e\n",
            "Wrong guess. You have 8 turns left!\n",
            "  -------------- \n",
            "         O        \n",
            "Guess the word: ______\n",
            "\n",
            "Enter a valid character\n",
            "Guess the word: ______\n",
            "t\n",
            "Guess the word: __t___\n",
            "y\n",
            "Wrong guess. You have 7 turns left!\n",
            "  -------------- \n",
            "         O        \n",
            "         |        \n",
            "Guess the word: __t___\n",
            "\n",
            "Enter a valid character\n",
            "Guess the word: __t___\n",
            "i\n",
            "Guess the word: __ti__\n",
            "b\n",
            "Wrong guess. You have 6 turns left!\n",
            "  -------------- \n",
            "         O        \n",
            "         |        \n",
            "        /        \n",
            "Guess the word: __ti__\n",
            "x\n",
            "Wrong guess. You have 5 turns left!\n",
            "  -------------- \n",
            "         O        \n",
            "         |        \n",
            "        / \\      \n",
            "Guess the word: __ti__\n",
            "a\n",
            "Guess the word: _ati__\n",
            "p\n",
            "Wrong guess. You have 4 turns left!\n",
            "  -------------- \n",
            "        \\O       \n",
            "         |        \n",
            "        / \\      \n",
            "Guess the word: _ati__\n",
            "m\n",
            "Wrong guess. You have 3 turns left!\n",
            "  -------------- \n",
            "        \\O/      \n",
            "         |        \n",
            "        / \\      \n",
            "Guess the word: _ati__\n",
            "l\n",
            "Wrong guess. You have 2 turns left!\n",
            "  -------------- \n",
            "        \\O/|     \n",
            "         |        \n",
            "        / \\      \n",
            "Guess the word: _ati__\n",
            "f\n",
            "Wrong guess. You have 1 turns left!\n",
            "  -------------- \n",
            "        \\O/_|    \n",
            "         |        \n",
            "        / \\      \n",
            "Guess the word: _ati__\n",
            "r\n",
            "Guess the word: rati__\n",
            "n\n",
            "Guess the word: ratin_\n",
            "g\n",
            "rating\n",
            "You win!\n",
            "Welcome to Hangman!\n"
          ]
        }
      ]
    },
    {
      "cell_type": "code",
      "source": [],
      "metadata": {
        "id": "u4Mooe7AyZiG"
      },
      "execution_count": null,
      "outputs": []
    }
  ]
}